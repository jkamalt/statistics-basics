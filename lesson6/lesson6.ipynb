{
 "cells": [
  {
   "cell_type": "code",
   "execution_count": 1,
   "id": "dbe5d600",
   "metadata": {},
   "outputs": [],
   "source": [
    "import numpy as np\n",
    "import scipy.stats as st"
   ]
  },
  {
   "cell_type": "markdown",
   "id": "4d8546bc",
   "metadata": {},
   "source": [
    "# Взаимосвязь величин. Параметрические и непараметрические показатели корреляции. Корреляционный анализ."
   ]
  },
  {
   "cell_type": "markdown",
   "id": "bc86a4c4",
   "metadata": {},
   "source": [
    "### Задание 1\n",
    "\n",
    "*Даны значения величины заработной платы заемщиков банка (zp) и значения их поведенческого кредитного скоринга (ks):*\n",
    "\n",
    "*zp = [35, 45, 190, 200, 40, 70, 54, 150, 120, 110],*\n",
    "\n",
    "*ks = [401, 574, 874, 919, 459, 739, 653, 902, 746, 832].*\n",
    "\n",
    "*Найдите ковариацию этих двух величин с помощью элементарных действий, а затем с помощью функции cov из numpy. Полученные значения должны быть равны.*\n",
    "\n",
    "*Найдите коэффициент корреляции Пирсона с помощью ковариации и среднеквадратичных отклонений двух признаков, а затем с использованием функций из библиотек numpy и pandas.*"
   ]
  },
  {
   "cell_type": "markdown",
   "id": "ab90faf7",
   "metadata": {},
   "source": [
    "Ковариация двух случайных величин вычисляется по формуле\n",
    "\n",
    "$$\\text{cov}(X, Y) = M(XY) - M(X)M(Y),$$\n",
    "\n",
    "где $M$ - математическое ожидание.\n",
    "\n",
    "По условию даны две выборки $x_i$, $y_i$ тогда можно вычислить смещенную выборочную ковариацию с использованием выборочного среденего:\n",
    "\n",
    "$$\\text{cov}(X, Y) = M(XY) - M(X)M(Y) = \\frac{1}{n} \\sum_{i=1}^n x_i y_i - \\overline{X}\\overline{Y} = \\frac{1}{n} \\sum_{i=1}^n x_i y_i - \\left( \\frac{1}{n} \\sum_{i=1}^n x_i \\right)\\left( \\frac{1}{n} \\sum_{i=1}^n y_i \\right) \\approx 9157.836.$$\n",
    "\n",
    "Коэффициент корреляции Пирсона вычисляется по формуле:\n",
    "\n",
    "$$r_{XY} = \\frac{\\text{cov}(X, Y)}{\\sigma_X \\sigma_Y}.$$\n",
    "\n",
    "Т.к. вычислили смещенную ковариацию, то для стандартного отклонения будем использовать также формулу смещенной оценки:\n",
    "\n",
    "$$\\sigma_X = \\sqrt{\\frac{\\sum_{i = 1}^n \\left(x_i - \\overline{X} \\right)^2}{n}} \\approx 59.115,$$\n",
    "\n",
    "$$\\sigma_Y = \\sqrt{\\frac{\\sum_{i = 1}^n \\left(y_i - \\overline{Y} \\right)^2}{n}} \\approx 174.553.$$\n",
    "\n",
    "Используя полученные значения вычислим коэффициент корреляции Пирсона:\n",
    "\n",
    "$$r_{XY} = \\frac{\\text{cov}(X, Y)}{\\sigma_X \\sigma_Y} = \\frac{9157.836}{59.115 \\cdot 174.553} \\approx 0.887.$$\n",
    "\n",
    "**Ответ:** $\\text{cov}(X, Y) \\approx 9157.836, r_{XY}\\approx 0.887.$"
   ]
  },
  {
   "cell_type": "code",
   "execution_count": 2,
   "id": "0dfb025b",
   "metadata": {},
   "outputs": [
    {
     "name": "stdout",
     "output_type": "stream",
     "text": [
      "Матрица ковариации numpy:\n",
      "[[ 3494.64  9157.84]\n",
      " [ 9157.84 30468.89]]\n",
      "\n",
      "cov_el = 9157.8359375\n",
      "cov_np = 9157.84\n",
      "\n",
      "sigma_X = 59.115482330322266\n",
      "sigma_Y = 174.5534210205078\n",
      "\n",
      "Коэффициент корреляции Пирсона numpy:\n",
      "[[1.         0.88749009]\n",
      " [0.88749009 1.        ]]\n",
      "\n",
      "r_el = 0.8874895572662354\n",
      "r_np = 0.8874900920739162\n"
     ]
    }
   ],
   "source": [
    "x = np.array([35, 45, 190, 200, 40, 70, 54, 150, 120, 110], dtype=np.float32)\n",
    "y = np.array([401, 574, 874, 919, 459, 739, 653, 902, 746, 832], dtype=np.float32)\n",
    "\n",
    "cov_el = np.mean(x * y) - np.mean(x) * np.mean(y)\n",
    "cov_np = np.cov(x, y, ddof=0)\n",
    "\n",
    "print('Матрица ковариации numpy:')\n",
    "print(f'{cov_np}\\n')\n",
    "\n",
    "print(f'cov_el = {cov_el}')\n",
    "print(f'cov_np = {cov_np[0, 1]}\\n')\n",
    "\n",
    "sigma_X = np.std(x, ddof=0)\n",
    "sigma_Y = np.std(y, ddof=0)\n",
    "\n",
    "r_el = cov_el / (sigma_X * sigma_Y)\n",
    "r_np = np.corrcoef(x, y)\n",
    "\n",
    "print(f'sigma_X = {sigma_X}')\n",
    "print(f'sigma_Y = {sigma_Y}\\n')\n",
    "\n",
    "print('Коэффициент корреляции Пирсона numpy:')\n",
    "print(f'{r_np}\\n')\n",
    "\n",
    "print(f'r_el = {r_el}')\n",
    "print(f'r_np = {r_np[0, 1]}')"
   ]
  },
  {
   "cell_type": "markdown",
   "id": "207d79b5",
   "metadata": {},
   "source": [
    "### Задание 2\n",
    "\n",
    "*Измерены значения IQ выборки студентов, обучающихся в местных технических вузах:*\n",
    "\n",
    "*131, 125, 115, 122, 131, 115, 107, 99, 125, 111.*\n",
    "\n",
    "*Известно, что в генеральной совокупности IQ распределен нормально.*\n",
    "\n",
    "*Найдите доверительный интервал для математического ожидания с надежностью 0.95.*"
   ]
  },
  {
   "cell_type": "markdown",
   "id": "8cb5bc35",
   "metadata": {},
   "source": [
    "Неизвестна $\\sigma$ генеральной совокупности, поэтому доверительный интервал строится по формуле\n",
    "\n",
    "$$\\overline {X} \\pm t_{\\frac{\\alpha}{2}} \\frac{\\sigma_{\\text{н}}}{\\sqrt{n}},$$\n",
    "\n",
    "где $t_{\\frac{\\alpha}{2}}$ определяется по таблице Стьюдента.\n",
    "\n",
    "По условию задачи $n = 10$.\n",
    "\n",
    "Вычислим выборочное среднее и несмещенную оценку стандартного отклонения, рассчитанного по выборке, по формулам:\n",
    "\n",
    "$$\\overline{X} = \\frac{1}{n} \\sum_{i = 1}^n x_i \\approx 118.1,$$\n",
    "\n",
    "$$\\sigma_{\\text{н}} = \\sqrt{\\frac{\\sum_{i = 1}^n \\left(x_i - \\overline{X} \\right)^2}{n - 1}} \\approx 10.546.$$\n",
    "\n",
    "Требуемая надежность 0.95, т.е. $\\alpha = 0.05$. Тогда по таблице Стьюдента найдем $t_{\\frac{\\alpha}{2}}$ для значения $\\frac{\\alpha}{2} = 0.025$ и для числа степеней свободы $k = n - 1 = 9$:\n",
    "\n",
    "$$t_{\\frac{\\alpha}{2}} = 2.262.$$\n",
    "\n",
    "Используя полученные значения, построим доверительный интервал\n",
    "\n",
    "$$\\overline {X} \\pm t_{\\frac{\\alpha}{2}} \\frac{\\sigma_{\\text{н}}}{\\sqrt{n}} = 118.1 \\pm 2.262 \\frac{10.546}{\\sqrt{10}} = 118.1 \\pm 7.543.$$\n",
    "\n",
    "**Ответ: [110.557; 125.643] - 95% доверительный интервал.**"
   ]
  },
  {
   "cell_type": "code",
   "execution_count": 3,
   "id": "4a02568b",
   "metadata": {},
   "outputs": [
    {
     "name": "stdout",
     "output_type": "stream",
     "text": [
      "M = 118.0999984741211\n",
      "sigma = 10.54566764831543\n",
      "\n",
      "t_table = 2.262\n",
      "t_scipy = 2.2621571627409915\n",
      "\n",
      "Левая граница = 110.55660640550073\n",
      "Правая граница = 125.64339054274146\n"
     ]
    }
   ],
   "source": [
    "a = np.array([131, 125, 115, 122, 131, 115, 107, 99, 125, 111], dtype=np.float32)\n",
    "M = np.mean(a)\n",
    "sigma = np.std(a, ddof=1)\n",
    "n = len(a)\n",
    "t = 2.262\n",
    "\n",
    "print(f'M = {M}')\n",
    "print(f'sigma = {sigma}\\n')\n",
    "\n",
    "print(f't_table = {2.262}')\n",
    "print(f't_scipy = {st.t.ppf(0.975, n - 1)}\\n')\n",
    "\n",
    "print(f'Левая граница = {M - t * sigma / np.sqrt(n)}')\n",
    "print(f'Правая граница = {M + t * sigma / np.sqrt(n)}')"
   ]
  },
  {
   "cell_type": "markdown",
   "id": "33da4055",
   "metadata": {},
   "source": [
    "### Задание 3\n",
    "\n",
    "*Известно, что рост футболистов в сборной распределен нормально с дисперсией генеральной совокупности, равной 25 кв.см. Объем выборки равен 27, среднее выборочное составляет 174.2.* \n",
    "\n",
    "*Найдите доверительный интервал для математического ожидания с надежностью 0.95.*"
   ]
  },
  {
   "cell_type": "markdown",
   "id": "79afc7d8",
   "metadata": {},
   "source": [
    "Известна $\\sigma$ генеральной совокупности, поэтому доверительный интервал строится по формуле\n",
    "\n",
    "$$\\overline{X} \\pm Z_{\\frac{\\alpha}{2}} \\frac{\\sigma}{\\sqrt{n}},$$\n",
    "\n",
    "где $Z_{\\frac{\\alpha}{2}}$ определяется по таблице Z-значений.\n",
    "\n",
    "Требуемая надежность 0.95, т.е. $\\alpha = 0.05$. Тогда по таблице Z-значений найдем $Z_{\\frac{\\alpha}{2}}$ для значения 0.975:\n",
    "\n",
    "$$Z_{\\frac{\\alpha}{2}} = 1.96.$$\n",
    "\n",
    "По условию задачи $\\overline{X} = 174.2$, $\\sigma = \\sqrt{D} = \\sqrt{25} = 5$, $n = 27$. Тогда доверительный интервал равен\n",
    "\n",
    "$$\\overline{X} \\pm Z_{\\frac{\\alpha}{2}} \\frac{\\sigma}{\\sqrt{n}} = 174.2 \\pm 1.96 \\frac{5}{\\sqrt{27}} = 174.2 \\pm 1.886.$$\n",
    "\n",
    "**Ответ: [172.314; 176.086] - 95% доверительный интервал.**"
   ]
  },
  {
   "cell_type": "code",
   "execution_count": 4,
   "id": "c4313948",
   "metadata": {},
   "outputs": [
    {
     "name": "stdout",
     "output_type": "stream",
     "text": [
      "Z_table = 1.96\n",
      "Z_scipy = 1.959963984540054\n",
      "\n",
      "Левая граница = 172.31398912064722\n",
      "Правая граница = 176.08601087935276\n"
     ]
    }
   ],
   "source": [
    "M = 174.2\n",
    "Z = 1.96\n",
    "sigma = np.sqrt(25)\n",
    "n = 27\n",
    "\n",
    "print(f'Z_table = {Z}')\n",
    "print(f'Z_scipy = {st.norm.ppf(0.975)}\\n')\n",
    "\n",
    "print(f'Левая граница = {M - Z * sigma / np.sqrt(n)}')\n",
    "print(f'Правая граница = {M + Z * sigma / np.sqrt(n)}')"
   ]
  }
 ],
 "metadata": {
  "kernelspec": {
   "display_name": "Python 3 (ipykernel)",
   "language": "python",
   "name": "python3"
  },
  "language_info": {
   "codemirror_mode": {
    "name": "ipython",
    "version": 3
   },
   "file_extension": ".py",
   "mimetype": "text/x-python",
   "name": "python",
   "nbconvert_exporter": "python",
   "pygments_lexer": "ipython3",
   "version": "3.10.0"
  }
 },
 "nbformat": 4,
 "nbformat_minor": 5
}
