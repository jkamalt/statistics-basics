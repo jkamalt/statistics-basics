{
 "cells": [
  {
   "cell_type": "code",
   "execution_count": 1,
   "id": "d4f8bf5c",
   "metadata": {},
   "outputs": [],
   "source": [
    "import numpy as np\n",
    "import scipy.stats as st"
   ]
  },
  {
   "cell_type": "markdown",
   "id": "51358a41",
   "metadata": {},
   "source": [
    "# Дисперсионный анализ. Логистическая регрессия"
   ]
  },
  {
   "cell_type": "markdown",
   "id": "cfbe2d77",
   "metadata": {},
   "source": [
    "### Задание 1\n",
    "\n",
    "*Провести дисперсионный анализ для определения того, есть ли различия среднего роста среди взрослых футболистов, хоккеистов и штангистов. Даны значения роста в трех группах случайно выбранных спортсменов:*\n",
    "\n",
    "*Футболисты: 173, 175, 180, 178, 177, 185, 183, 182.*\n",
    "\n",
    "*Хоккеисты: 177, 179, 180, 188, 177, 172, 171, 184, 180.*\n",
    "\n",
    "*Штангисты: 172, 173, 169, 177, 166, 180, 178, 177, 172, 166, 170.*"
   ]
  },
  {
   "cell_type": "markdown",
   "id": "0a526924",
   "metadata": {},
   "source": [
    "Проводится однофакторный дисперсионный анализ - проверяется есть ли статистически значимое различие среднего роста спортсменов в трех группах, отличающихся по виду спорта. В этом случае средний рост - это количественный признак, а вид спорта - это качественный фактор, наблюдаемый на 3 уровнях (футболисты, хоккеисты, штангисты).\n",
    "\n",
    "Сформулируем гипотезы\n",
    "\n",
    "$H_0: \\mu_1 = \\mu_2 = \\mu_3$ - средний рост в трех групах одинаковый, т.е. рост не зависит от вида спорта,\n",
    "\n",
    "$H_1: \\mu_1 \\neq \\mu_2 \\neq \\mu_3$ - средний рост в трех групах разный, т.е. рост зависит от вида спорта.\n",
    "\n",
    "Примем уровень значимости $\\alpha = 0.05$.\n",
    "\n",
    "Вычислили значения статистики и p-value. Получили:\n",
    "\n",
    "$$\\text{p-value} \\approx 0.01 < \\alpha = 0.05,$$\n",
    "\n",
    "т.е. гипотеза $H_0$ неверна при уровне значимости $\\alpha = 0.05$, т.е. есть статистически значимое различие среднего роста спортсменов в трех группах.\n",
    "\n",
    "**Ответ: рост спортсмена зависит от вида спорта при $\\alpha = 0.05$.**"
   ]
  },
  {
   "cell_type": "code",
   "execution_count": 2,
   "id": "060c5224",
   "metadata": {},
   "outputs": [
    {
     "data": {
      "text/plain": [
       "F_onewayResult(statistic=5.500053450812596, pvalue=0.010482206918698694)"
      ]
     },
     "execution_count": 2,
     "metadata": {},
     "output_type": "execute_result"
    }
   ],
   "source": [
    "football = np.array([173, 175, 180, 178, 177, 185, 183, 182], dtype=np.float32)\n",
    "hockey = np.array([177, 179, 180, 188, 177, 172, 171, 184, 180], dtype=np.float32)\n",
    "weightlifter = np.array([172, 173, 169, 177, 166, 180, 178, 177, 172, 166, 170], dtype=np.float32)\n",
    "\n",
    "st.f_oneway(football, hockey, weightlifter)"
   ]
  }
 ],
 "metadata": {
  "kernelspec": {
   "display_name": "Python 3 (ipykernel)",
   "language": "python",
   "name": "python3"
  },
  "language_info": {
   "codemirror_mode": {
    "name": "ipython",
    "version": 3
   },
   "file_extension": ".py",
   "mimetype": "text/x-python",
   "name": "python",
   "nbconvert_exporter": "python",
   "pygments_lexer": "ipython3",
   "version": "3.10.0"
  }
 },
 "nbformat": 4,
 "nbformat_minor": 5
}
